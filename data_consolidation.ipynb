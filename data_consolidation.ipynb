{
 "cells": [
  {
   "cell_type": "markdown",
   "metadata": {},
   "source": [
    "# Building dataframe from multiple files in Python"
   ]
  },
  {
   "cell_type": "markdown",
   "metadata": {},
   "source": [
    "How to consolidate data from multiple csv files to one dataframe\n"
   ]
  },
  {
   "cell_type": "markdown",
   "metadata": {},
   "source": [
    "You can download the copy of the data file [here](https://drive.google.com/open?id=1sFL2MMELasLHEYtoxK1ian4dTxS7UV7S) with size 2.12 GB"
   ]
  },
  {
   "cell_type": "code",
   "execution_count": 1,
   "metadata": {},
   "outputs": [],
   "source": [
    "# import necessary files\n",
    "import pandas as pd\n",
    "from glob import glob"
   ]
  },
  {
   "cell_type": "markdown",
   "metadata": {},
   "source": [
    "Step 1 : Use Python's glob () function to list all files that match a given pattern"
   ]
  },
  {
   "cell_type": "code",
   "execution_count": 2,
   "metadata": {},
   "outputs": [
    {
     "data": {
      "text/plain": [
       "['Data\\\\Copy of Sales_Data_1.csv',\n",
       " 'Data\\\\Copy of Sales_Data_10.csv',\n",
       " 'Data\\\\Copy of Sales_Data_11.csv',\n",
       " 'Data\\\\Copy of Sales_Data_12.csv',\n",
       " 'Data\\\\Copy of Sales_Data_13.csv',\n",
       " 'Data\\\\Copy of Sales_Data_14.csv',\n",
       " 'Data\\\\Copy of Sales_Data_15.csv',\n",
       " 'Data\\\\Copy of Sales_Data_16.csv',\n",
       " 'Data\\\\Copy of Sales_Data_17.csv',\n",
       " 'Data\\\\Copy of Sales_Data_18.csv',\n",
       " 'Data\\\\Copy of Sales_Data_19.csv',\n",
       " 'Data\\\\Copy of Sales_Data_2.csv',\n",
       " 'Data\\\\Copy of Sales_Data_20.csv',\n",
       " 'Data\\\\Copy of Sales_Data_3.csv',\n",
       " 'Data\\\\Copy of Sales_Data_4.csv',\n",
       " 'Data\\\\Copy of Sales_Data_5.csv',\n",
       " 'Data\\\\Copy of Sales_Data_6.csv',\n",
       " 'Data\\\\Copy of Sales_Data_7.csv',\n",
       " 'Data\\\\Copy of Sales_Data_8.csv',\n",
       " 'Data\\\\Copy of Sales_Data_9.csv']"
      ]
     },
     "execution_count": 2,
     "metadata": {},
     "output_type": "execute_result"
    }
   ],
   "source": [
    "sales_files = glob('Data/Copy of Sales_Data*.csv')\n",
    "sales_files"
   ]
  },
  {
   "cell_type": "markdown",
   "metadata": {},
   "source": [
    "Step 2: Use a generator expression to read the files and use concat() to combine them"
   ]
  },
  {
   "cell_type": "code",
   "execution_count": 3,
   "metadata": {},
   "outputs": [
    {
     "name": "stdout",
     "output_type": "stream",
     "text": [
      "Wall time: 1min 3s\n"
     ]
    }
   ],
   "source": [
    "%time sales = pd.concat((pd.read_csv(file) for file in sales_files), ignore_index= False, axis= 'rows')"
   ]
  },
  {
   "cell_type": "markdown",
   "metadata": {},
   "source": [
    "Now we have all the data in sales DataFrame. We can see the first five of the dataset by using head() function."
   ]
  },
  {
   "cell_type": "code",
   "execution_count": 4,
   "metadata": {},
   "outputs": [
    {
     "data": {
      "text/html": [
       "<div>\n",
       "<style scoped>\n",
       "    .dataframe tbody tr th:only-of-type {\n",
       "        vertical-align: middle;\n",
       "    }\n",
       "\n",
       "    .dataframe tbody tr th {\n",
       "        vertical-align: top;\n",
       "    }\n",
       "\n",
       "    .dataframe thead th {\n",
       "        text-align: right;\n",
       "    }\n",
       "</style>\n",
       "<table border=\"1\" class=\"dataframe\">\n",
       "  <thead>\n",
       "    <tr style=\"text-align: right;\">\n",
       "      <th></th>\n",
       "      <th>Region</th>\n",
       "      <th>Product</th>\n",
       "      <th>Date</th>\n",
       "      <th>Sales</th>\n",
       "    </tr>\n",
       "  </thead>\n",
       "  <tbody>\n",
       "    <tr>\n",
       "      <th>0</th>\n",
       "      <td>West</td>\n",
       "      <td>Prod T</td>\n",
       "      <td>2012-09-06</td>\n",
       "      <td>53395.177324</td>\n",
       "    </tr>\n",
       "    <tr>\n",
       "      <th>1</th>\n",
       "      <td>West</td>\n",
       "      <td>Prod K</td>\n",
       "      <td>2016-02-23</td>\n",
       "      <td>116609.694781</td>\n",
       "    </tr>\n",
       "    <tr>\n",
       "      <th>2</th>\n",
       "      <td>South</td>\n",
       "      <td>Prod F</td>\n",
       "      <td>2013-09-20</td>\n",
       "      <td>72524.095297</td>\n",
       "    </tr>\n",
       "    <tr>\n",
       "      <th>3</th>\n",
       "      <td>South</td>\n",
       "      <td>Prod J</td>\n",
       "      <td>2010-12-24</td>\n",
       "      <td>22538.478726</td>\n",
       "    </tr>\n",
       "    <tr>\n",
       "      <th>4</th>\n",
       "      <td>North</td>\n",
       "      <td>Prod D</td>\n",
       "      <td>2012-03-28</td>\n",
       "      <td>45616.532823</td>\n",
       "    </tr>\n",
       "  </tbody>\n",
       "</table>\n",
       "</div>"
      ],
      "text/plain": [
       "  Region Product        Date          Sales\n",
       "0   West  Prod T  2012-09-06   53395.177324\n",
       "1   West  Prod K  2016-02-23  116609.694781\n",
       "2  South  Prod F  2013-09-20   72524.095297\n",
       "3  South  Prod J  2010-12-24   22538.478726\n",
       "4  North  Prod D  2012-03-28   45616.532823"
      ]
     },
     "execution_count": 4,
     "metadata": {},
     "output_type": "execute_result"
    }
   ],
   "source": [
    "sales.head()"
   ]
  },
  {
   "cell_type": "code",
   "execution_count": 5,
   "metadata": {},
   "outputs": [
    {
     "data": {
      "text/plain": [
       "(50000000, 4)"
      ]
     },
     "execution_count": 5,
     "metadata": {},
     "output_type": "execute_result"
    }
   ],
   "source": [
    "sales.shape"
   ]
  },
  {
   "cell_type": "markdown",
   "metadata": {},
   "source": [
    "If you like this writeup, you can also follow me on [Twitter](https://www.twitter.com/gbganalyst) and [Linkedin](https://www.linkedin.com/in/ezekiel-ogundepo/) for more update in `R` and `Python` for datascience."
   ]
  }
 ],
 "metadata": {
  "kernelspec": {
   "display_name": "Python 3",
   "language": "python",
   "name": "python3"
  },
  "language_info": {
   "codemirror_mode": {
    "name": "ipython",
    "version": 3
   },
   "file_extension": ".py",
   "mimetype": "text/x-python",
   "name": "python",
   "nbconvert_exporter": "python",
   "pygments_lexer": "ipython3",
   "version": "3.7.1"
  }
 },
 "nbformat": 4,
 "nbformat_minor": 2
}
