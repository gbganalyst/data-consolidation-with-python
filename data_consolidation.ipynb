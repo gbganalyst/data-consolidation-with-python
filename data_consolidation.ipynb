{
 "cells": [
  {
   "cell_type": "markdown",
   "metadata": {},
   "source": [
    "# Data consolidation: Part 1"
   ]
  },
  {
   "cell_type": "markdown",
   "metadata": {},
   "source": [
    "This tutorial teaches how to consolidate multiple csv files into a dataframe in Python and to follow along this tutorial, you can download the *[data](https://drive.google.com/open?id=1sFL2MMELasLHEYtoxK1ian4dTxS7UV7S)* which are of size 2.12GB.\n"
   ]
  },
  {
   "cell_type": "markdown",
   "metadata": {},
   "source": [
    "In this tutorial, we are going to use two methods namely:\n",
    "* Pandas\n",
    "* dask with pandas"
   ]
  },
  {
   "cell_type": "code",
   "execution_count": 1,
   "metadata": {},
   "outputs": [],
   "source": [
    "# import necessary libraries\n",
    "import pandas as pd\n",
    "from glob import glob"
   ]
  },
  {
   "cell_type": "markdown",
   "metadata": {},
   "source": [
    "# **Method 1**: Using Pandas"
   ]
  },
  {
   "cell_type": "markdown",
   "metadata": {},
   "source": [
    "Step 1 : Use glob() to list all files that match a pattern and sort the results"
   ]
  },
  {
   "cell_type": "code",
   "execution_count": 2,
   "metadata": {},
   "outputs": [
    {
     "data": {
      "text/plain": [
       "['Data\\\\Sales_Data_01.csv',\n",
       " 'Data\\\\Sales_Data_02.csv',\n",
       " 'Data\\\\Sales_Data_03.csv',\n",
       " 'Data\\\\Sales_Data_04.csv',\n",
       " 'Data\\\\Sales_Data_05.csv',\n",
       " 'Data\\\\Sales_Data_06.csv',\n",
       " 'Data\\\\Sales_Data_07.csv',\n",
       " 'Data\\\\Sales_Data_08.csv',\n",
       " 'Data\\\\Sales_Data_09.csv',\n",
       " 'Data\\\\Sales_Data_10.csv',\n",
       " 'Data\\\\Sales_Data_11.csv',\n",
       " 'Data\\\\Sales_Data_12.csv',\n",
       " 'Data\\\\Sales_Data_13.csv',\n",
       " 'Data\\\\Sales_Data_14.csv',\n",
       " 'Data\\\\Sales_Data_15.csv',\n",
       " 'Data\\\\Sales_Data_16.csv',\n",
       " 'Data\\\\Sales_Data_17.csv',\n",
       " 'Data\\\\Sales_Data_18.csv',\n",
       " 'Data\\\\Sales_Data_19.csv',\n",
       " 'Data\\\\Sales_Data_20.csv']"
      ]
     },
     "execution_count": 2,
     "metadata": {},
     "output_type": "execute_result"
    }
   ],
   "source": [
    "# sorted function is used to sort the files in order.\n",
    "sales_files = sorted(glob('Data/Sales_Data*.csv'))\n",
    "sales_files"
   ]
  },
  {
   "cell_type": "markdown",
   "metadata": {},
   "source": [
    "Step 2: Use a generator expression to read the files, assign() to create a new column, and concat() to combine the dataFrames"
   ]
  },
  {
   "cell_type": "code",
   "execution_count": 3,
   "metadata": {},
   "outputs": [
    {
     "name": "stdout",
     "output_type": "stream",
     "text": [
      "Wall time: 1min 31s\n"
     ]
    }
   ],
   "source": [
    "%%time \n",
    "sales = pd.concat((pd.read_csv(file).assign(filename = file) for file in sales_files), ignore_index = True)"
   ]
  },
  {
   "cell_type": "markdown",
   "metadata": {},
   "source": [
    "We now have a consolidated dataframe. We can see the first five of the dataset by using head() function."
   ]
  },
  {
   "cell_type": "code",
   "execution_count": 4,
   "metadata": {},
   "outputs": [
    {
     "data": {
      "text/html": [
       "<div>\n",
       "<style scoped>\n",
       "    .dataframe tbody tr th:only-of-type {\n",
       "        vertical-align: middle;\n",
       "    }\n",
       "\n",
       "    .dataframe tbody tr th {\n",
       "        vertical-align: top;\n",
       "    }\n",
       "\n",
       "    .dataframe thead th {\n",
       "        text-align: right;\n",
       "    }\n",
       "</style>\n",
       "<table border=\"1\" class=\"dataframe\">\n",
       "  <thead>\n",
       "    <tr style=\"text-align: right;\">\n",
       "      <th></th>\n",
       "      <th>Region</th>\n",
       "      <th>Product</th>\n",
       "      <th>Date</th>\n",
       "      <th>Sales</th>\n",
       "      <th>filename</th>\n",
       "    </tr>\n",
       "  </thead>\n",
       "  <tbody>\n",
       "    <tr>\n",
       "      <th>0</th>\n",
       "      <td>West</td>\n",
       "      <td>Prod T</td>\n",
       "      <td>2012-09-06</td>\n",
       "      <td>53395.177324</td>\n",
       "      <td>Data\\Sales_Data_01.csv</td>\n",
       "    </tr>\n",
       "    <tr>\n",
       "      <th>1</th>\n",
       "      <td>West</td>\n",
       "      <td>Prod K</td>\n",
       "      <td>2016-02-23</td>\n",
       "      <td>116609.694781</td>\n",
       "      <td>Data\\Sales_Data_01.csv</td>\n",
       "    </tr>\n",
       "    <tr>\n",
       "      <th>2</th>\n",
       "      <td>South</td>\n",
       "      <td>Prod F</td>\n",
       "      <td>2013-09-20</td>\n",
       "      <td>72524.095297</td>\n",
       "      <td>Data\\Sales_Data_01.csv</td>\n",
       "    </tr>\n",
       "    <tr>\n",
       "      <th>3</th>\n",
       "      <td>South</td>\n",
       "      <td>Prod J</td>\n",
       "      <td>2010-12-24</td>\n",
       "      <td>22538.478726</td>\n",
       "      <td>Data\\Sales_Data_01.csv</td>\n",
       "    </tr>\n",
       "    <tr>\n",
       "      <th>4</th>\n",
       "      <td>North</td>\n",
       "      <td>Prod D</td>\n",
       "      <td>2012-03-28</td>\n",
       "      <td>45616.532823</td>\n",
       "      <td>Data\\Sales_Data_01.csv</td>\n",
       "    </tr>\n",
       "  </tbody>\n",
       "</table>\n",
       "</div>"
      ],
      "text/plain": [
       "  Region Product        Date          Sales                filename\n",
       "0   West  Prod T  2012-09-06   53395.177324  Data\\Sales_Data_01.csv\n",
       "1   West  Prod K  2016-02-23  116609.694781  Data\\Sales_Data_01.csv\n",
       "2  South  Prod F  2013-09-20   72524.095297  Data\\Sales_Data_01.csv\n",
       "3  South  Prod J  2010-12-24   22538.478726  Data\\Sales_Data_01.csv\n",
       "4  North  Prod D  2012-03-28   45616.532823  Data\\Sales_Data_01.csv"
      ]
     },
     "execution_count": 4,
     "metadata": {},
     "output_type": "execute_result"
    }
   ],
   "source": [
    "sales.head()"
   ]
  },
  {
   "cell_type": "markdown",
   "metadata": {},
   "source": [
    "and the last five rows by using tail() function."
   ]
  },
  {
   "cell_type": "code",
   "execution_count": 5,
   "metadata": {},
   "outputs": [
    {
     "data": {
      "text/html": [
       "<div>\n",
       "<style scoped>\n",
       "    .dataframe tbody tr th:only-of-type {\n",
       "        vertical-align: middle;\n",
       "    }\n",
       "\n",
       "    .dataframe tbody tr th {\n",
       "        vertical-align: top;\n",
       "    }\n",
       "\n",
       "    .dataframe thead th {\n",
       "        text-align: right;\n",
       "    }\n",
       "</style>\n",
       "<table border=\"1\" class=\"dataframe\">\n",
       "  <thead>\n",
       "    <tr style=\"text-align: right;\">\n",
       "      <th></th>\n",
       "      <th>Region</th>\n",
       "      <th>Product</th>\n",
       "      <th>Date</th>\n",
       "      <th>Sales</th>\n",
       "      <th>filename</th>\n",
       "    </tr>\n",
       "  </thead>\n",
       "  <tbody>\n",
       "    <tr>\n",
       "      <th>49999995</th>\n",
       "      <td>South</td>\n",
       "      <td>Prod R</td>\n",
       "      <td>2014-10-22</td>\n",
       "      <td>92396.453391</td>\n",
       "      <td>Data\\Sales_Data_20.csv</td>\n",
       "    </tr>\n",
       "    <tr>\n",
       "      <th>49999996</th>\n",
       "      <td>North</td>\n",
       "      <td>Prod E</td>\n",
       "      <td>2012-02-16</td>\n",
       "      <td>43532.044366</td>\n",
       "      <td>Data\\Sales_Data_20.csv</td>\n",
       "    </tr>\n",
       "    <tr>\n",
       "      <th>49999997</th>\n",
       "      <td>South</td>\n",
       "      <td>Prod R</td>\n",
       "      <td>2015-10-25</td>\n",
       "      <td>110877.155070</td>\n",
       "      <td>Data\\Sales_Data_20.csv</td>\n",
       "    </tr>\n",
       "    <tr>\n",
       "      <th>49999998</th>\n",
       "      <td>South</td>\n",
       "      <td>Prod A</td>\n",
       "      <td>2014-06-05</td>\n",
       "      <td>85371.140536</td>\n",
       "      <td>Data\\Sales_Data_20.csv</td>\n",
       "    </tr>\n",
       "    <tr>\n",
       "      <th>49999999</th>\n",
       "      <td>North</td>\n",
       "      <td>Prod E</td>\n",
       "      <td>2011-04-20</td>\n",
       "      <td>28391.187738</td>\n",
       "      <td>Data\\Sales_Data_20.csv</td>\n",
       "    </tr>\n",
       "  </tbody>\n",
       "</table>\n",
       "</div>"
      ],
      "text/plain": [
       "         Region Product        Date          Sales                filename\n",
       "49999995  South  Prod R  2014-10-22   92396.453391  Data\\Sales_Data_20.csv\n",
       "49999996  North  Prod E  2012-02-16   43532.044366  Data\\Sales_Data_20.csv\n",
       "49999997  South  Prod R  2015-10-25  110877.155070  Data\\Sales_Data_20.csv\n",
       "49999998  South  Prod A  2014-06-05   85371.140536  Data\\Sales_Data_20.csv\n",
       "49999999  North  Prod E  2011-04-20   28391.187738  Data\\Sales_Data_20.csv"
      ]
     },
     "execution_count": 5,
     "metadata": {},
     "output_type": "execute_result"
    }
   ],
   "source": [
    "sales.tail()"
   ]
  },
  {
   "cell_type": "code",
   "execution_count": 6,
   "metadata": {},
   "outputs": [
    {
     "data": {
      "text/plain": [
       "(50000000, 5)"
      ]
     },
     "execution_count": 6,
     "metadata": {},
     "output_type": "execute_result"
    }
   ],
   "source": [
    "sales.shape"
   ]
  },
  {
   "cell_type": "code",
   "execution_count": 7,
   "metadata": {},
   "outputs": [
    {
     "name": "stdout",
     "output_type": "stream",
     "text": [
      "<class 'pandas.core.frame.DataFrame'>\n",
      "RangeIndex: 50000000 entries, 0 to 49999999\n",
      "Data columns (total 5 columns):\n",
      "Region      object\n",
      "Product     object\n",
      "Date        object\n",
      "Sales       float64\n",
      "filename    object\n",
      "dtypes: float64(1), object(4)\n",
      "memory usage: 13.0 GB\n"
     ]
    }
   ],
   "source": [
    "sales.info(memory_usage = 'deep')"
   ]
  },
  {
   "cell_type": "markdown",
   "metadata": {},
   "source": [
    "# **Method 2**: Using dask frame and pandas"
   ]
  },
  {
   "cell_type": "markdown",
   "metadata": {},
   "source": [
    "Dask provides multi-core execution on larger-than-memory datasets. More info about Dask can be found [here](https://github.com/dask/dask-tutorial)."
   ]
  },
  {
   "cell_type": "code",
   "execution_count": 8,
   "metadata": {},
   "outputs": [
    {
     "name": "stdout",
     "output_type": "stream",
     "text": [
      "It took 0:00:34.356744 secs\n"
     ]
    }
   ],
   "source": [
    "import dask.dataframe as dd\n",
    "import datetime\n",
    "\n",
    "start = datetime.datetime.now()\n",
    "\n",
    "# read multiple files as dask.dataframe\n",
    "sales_dask = dd.read_csv('Data/Sales_Data*.csv')\n",
    "\n",
    "# Convert it back to Pandas dataframe\n",
    "sales_pandas = sales_dask.compute()\n",
    "\n",
    "end = datetime.datetime.now()\n",
    "\n",
    "print(f'It took {end-start} secs')"
   ]
  },
  {
   "cell_type": "markdown",
   "metadata": {},
   "source": [
    "It appears that reading a big data file as a Dask dataframe and then converting it to Pandas dataframe takes lesser time than reading through pandas dataframe. Thus, it might be a good idea to import a large data file through dask and then convert it to pandas dataframe."
   ]
  },
  {
   "cell_type": "code",
   "execution_count": 9,
   "metadata": {},
   "outputs": [
    {
     "data": {
      "text/plain": [
       "(50000000, 4)"
      ]
     },
     "execution_count": 9,
     "metadata": {},
     "output_type": "execute_result"
    }
   ],
   "source": [
    "sales_pandas.shape"
   ]
  },
  {
   "cell_type": "code",
   "execution_count": 10,
   "metadata": {},
   "outputs": [
    {
     "name": "stdout",
     "output_type": "stream",
     "text": [
      "<class 'pandas.core.frame.DataFrame'>\n",
      "Int64Index: 50000000 entries, 0 to 1097681\n",
      "Data columns (total 4 columns):\n",
      "Region     object\n",
      "Product    object\n",
      "Date       object\n",
      "Sales      float64\n",
      "dtypes: float64(1), object(3)\n",
      "memory usage: 9.7 GB\n"
     ]
    }
   ],
   "source": [
    "sales_pandas.info(memory_usage='deep')"
   ]
  },
  {
   "cell_type": "markdown",
   "metadata": {},
   "source": [
    "**Note**: If the size of the file is small and can quite fit the RAM of the computer, then there is no need to use Dask dataframe in that sense."
   ]
  },
  {
   "cell_type": "markdown",
   "metadata": {},
   "source": [
    "---\n",
    "The Github repository can be found [here](https://github.com/gbganalyst/merge-csv-files-in-python) and if you like this write up, you can also follow me on [Twitter](https://www.twitter.com/gbganalyst) and/or [Linkedin](https://www.linkedin.com/in/ezekiel-ogundepo/) for more updates in `R`, `Excel`, and `Python` for data science."
   ]
  }
 ],
 "metadata": {
  "hide_input": false,
  "kernelspec": {
   "display_name": "Python 3",
   "language": "python",
   "name": "python3"
  },
  "language_info": {
   "codemirror_mode": {
    "name": "ipython",
    "version": 3
   },
   "file_extension": ".py",
   "mimetype": "text/x-python",
   "name": "python",
   "nbconvert_exporter": "python",
   "pygments_lexer": "ipython3",
   "version": "3.7.1"
  },
  "toc": {
   "base_numbering": 1,
   "nav_menu": {},
   "number_sections": true,
   "sideBar": true,
   "skip_h1_title": false,
   "title_cell": "Table of Contents",
   "title_sidebar": "Contents",
   "toc_cell": false,
   "toc_position": {},
   "toc_section_display": true,
   "toc_window_display": false
  },
  "varInspector": {
   "cols": {
    "lenName": 16,
    "lenType": 16,
    "lenVar": 40
   },
   "kernels_config": {
    "python": {
     "delete_cmd_postfix": "",
     "delete_cmd_prefix": "del ",
     "library": "var_list.py",
     "varRefreshCmd": "print(var_dic_list())"
    },
    "r": {
     "delete_cmd_postfix": ") ",
     "delete_cmd_prefix": "rm(",
     "library": "var_list.r",
     "varRefreshCmd": "cat(var_dic_list()) "
    }
   },
   "types_to_exclude": [
    "module",
    "function",
    "builtin_function_or_method",
    "instance",
    "_Feature"
   ],
   "window_display": false
  }
 },
 "nbformat": 4,
 "nbformat_minor": 2
}
